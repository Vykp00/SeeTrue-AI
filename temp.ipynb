{
 "cells": [
  {
   "cell_type": "code",
   "id": "9b9d5f85-4928-4494-88a8-bfed0d77ea83",
   "metadata": {
    "jupyter": {
     "is_executing": true
    }
   },
   "source": [
    "import tensorflow as tf\n",
    "import pandas as pd\n",
    "\n",
    "# Verify it's using GPU\n",
    "print(\"Num GPUs Available: \", len(tf.config.list_physical_devices('GPU')))"
   ],
   "outputs": [],
   "execution_count": null
  },
  {
   "cell_type": "code",
   "execution_count": null,
   "id": "e2377871-c8e3-4e65-a43c-f441f95c33b1",
   "metadata": {},
   "outputs": [],
   "source": [
    "DATAPATH = \"./full_dataset\"\n",
    "data_walking_path = DATAPATH + \"1_waling.\n",
    "data-walking_1 = pd.read_csv(DATA"
   ]
  }
 ],
 "metadata": {
  "kernelspec": {
   "display_name": "Python 3 (ipykernel)",
   "language": "python",
   "name": "python3"
  },
  "language_info": {
   "codemirror_mode": {
    "name": "ipython",
    "version": 3
   },
   "file_extension": ".py",
   "mimetype": "text/x-python",
   "name": "python",
   "nbconvert_exporter": "python",
   "pygments_lexer": "ipython3",
   "version": "3.9.20"
  }
 },
 "nbformat": 4,
 "nbformat_minor": 5
}
