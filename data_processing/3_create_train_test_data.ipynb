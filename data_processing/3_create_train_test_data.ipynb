{
 "cells": [
  {
   "metadata": {},
   "cell_type": "markdown",
   "source": [
    "# **<font style = \"color:rgb(58, 45, 247)\"> Train-Test Data Spliting</font>**\n",
    "\n",
    "To create a balanced training and testing dataset with equal representation from each activity class (walking, reading, playing), follow these steps:\n",
    "\n",
    "1. **Load Each Dataset**: Read `walking.csv`, `reading.csv`, and `playing.csv` from `full_dataset_combined`.\n",
    "2. **Combine Datasets**: Concatenate the three files into a single DataFrame.\n",
    "3. **Shuffle and Split the Data**: Randomly shuffle the data and split it into training and testing sets.\n",
    "4. **Ensure Balanced Classes**: Take equal portions from each class for both training and testing sets.\n",
    "5. **Save the Datasets**: Save the training and testing datasets as `train.csv` and `test.csv`.\n",
    "\n",
    "Here’s the Python script for the above steps:\n",
    "\n",
    "### Explanation of the Script\n",
    "\n",
    "1. **Loading and Labeling Data**: Each file (`walking.csv`, `reading.csv`, `playing.csv`) is loaded with a `Result` column indicating its activity label.\n",
    "2. **Data Splitting**: Uses `train_test_split` with an 80-20 split for each activity class. This ensures equal representation across classes in both training and testing datasets.\n",
    "3. **Concatenating and Saving**: The training and testing data for all classes are combined and saved to `train.csv` and `test.csv` in the `dataset_split` directory.\n",
    "\n"
   ],
   "id": "d80f19ee1ad9e10f"
  },
  {
   "cell_type": "code",
   "execution_count": null,
   "id": "initial_id",
   "metadata": {
    "collapsed": true
   },
   "outputs": [],
   "source": [
    "\"\"\"\n",
    "Uncomment this cell to run `create_train_test_data.py` from this notebook.\n",
    "Please note it will create a new folders with process datasets\n",
    "\"\"\"\n",
    "# import subprocess\n",
    "# import sys\n",
    "# # Run the script and capture output in the notebook\n",
    "# create_train_test_data_result = subprocess.run(\n",
    "#     [sys.executable, 'create_train_test_data.py'],\n",
    "#     stdout=subprocess.PIPE,\n",
    "#     stderr=subprocess.PIPE,\n",
    "#     text=True\n",
    "# )\n",
    "# \n",
    "# # Print both stdout and stderr\n",
    "# print(create_train_test_data.stdout)\n",
    "# print(create_train_test_data.stderr)"
   ]
  },
  {
   "metadata": {},
   "cell_type": "code",
   "outputs": [],
   "execution_count": null,
   "source": [
    "import os\n",
    "import pandas as pd\n",
    "import logging\n",
    "import sys\n",
    "from sklearn.model_selection import train_test_split\n",
    "from data_path import FEATURE_FILE_PATH, DATA_SPLIT_PATH\n",
    "\n",
    "# Directory containing the combined files\n",
    "input_folder = FEATURE_FILE_PATH\n",
    "output_folder = DATA_SPLIT_PATH\n",
    "os.makedirs(output_folder, exist_ok=True)\n",
    "\n",
    "# Load each activity file with Result column as Y indicator\n",
    "activity_files = {\n",
    "    'walking': 1,\n",
    "    'reading': 2,\n",
    "    'playing': 3\n",
    "}\n",
    "\n",
    "# List to store all data for concatenation\n",
    "all_data = []\n",
    "\n",
    "# Load each file and append to all_data\n",
    "for activity, label in activity_files.items():\n",
    "    file_path = os.path.join(input_folder, f\"{activity}.csv\")\n",
    "    if os.path.exists(file_path):\n",
    "        data = pd.read_csv(file_path)\n",
    "        data['Result'] = label  # Set the Result column for classification target\n",
    "        all_data.append(data)\n",
    "\n",
    "# Concatenate all data into a single DataFrame\n",
    "combined_data = pd.concat(all_data, ignore_index=True)\n",
    "\n",
    "# Split each class separately to ensure balanced classes in train and test sets\n",
    "train_data = []\n",
    "test_data = []\n",
    "\n",
    "for label in activity_files.values():\n",
    "    class_data = combined_data[combined_data['Result'] == label]\n",
    "    train, test = train_test_split(class_data, test_size=0.2, random_state=42)\n",
    "    train_data.append(train)\n",
    "    test_data.append(test)\n",
    "\n",
    "# Concatenate all classes to form the final train and test datasets\n",
    "train_data = pd.concat(train_data, ignore_index=True)\n",
    "test_data = pd.concat(test_data, ignore_index=True)\n",
    "\n",
    "# Save train and test datasets\n",
    "train_data.to_csv(os.path.join(output_folder, 'train.csv'), index=False)\n",
    "test_data.to_csv(os.path.join(output_folder, 'test.csv'), index=False)\n"
   ],
   "id": "e1bbad51b2e09459"
  }
 ],
 "metadata": {
  "kernelspec": {
   "display_name": "Python 3",
   "language": "python",
   "name": "python3"
  },
  "language_info": {
   "codemirror_mode": {
    "name": "ipython",
    "version": 2
   },
   "file_extension": ".py",
   "mimetype": "text/x-python",
   "name": "python",
   "nbconvert_exporter": "python",
   "pygments_lexer": "ipython2",
   "version": "2.7.6"
  }
 },
 "nbformat": 4,
 "nbformat_minor": 5
}
